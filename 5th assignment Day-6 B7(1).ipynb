{
 "cells": [
  {
   "cell_type": "code",
   "execution_count": 1,
   "metadata": {},
   "outputs": [],
   "source": [
    "class Bank_Account: \n",
    "    def __init__(self,owner_name='Ankit'):\n",
    "        self.name = owner_name\n",
    "        self.balance=0\n",
    "      \n",
    "        print(\"Hello!!! Welcome to the Deposit & Withdrawal Machine\")\n",
    "        print(\"holder name:\" ,self.name)\n",
    "   \n",
    "          \n",
    "  \n",
    "    def deposit(self): \n",
    "        amount=float(input(\"Enter amount to be Deposited: \")) \n",
    "        self.balance += amount \n",
    "        print(\"\\n Amount Deposited:\",amount) \n",
    "  \n",
    "    def withdraw(self): \n",
    "        amount = float(input(\"Enter amount to be Withdrawn: \")) \n",
    "        if self.balance>=amount: \n",
    "            self.balance-=amount \n",
    "            print(\"\\n You Withdrew:\", amount) \n",
    "        else: \n",
    "            print(\"\\n Insufficient balance  \") \n",
    "  \n",
    "    def display(self): \n",
    "        print(\"\\n Net Available Balance=\",self.balance) \n",
    "  "
   ]
  },
  {
   "cell_type": "code",
   "execution_count": 2,
   "metadata": {},
   "outputs": [
    {
     "name": "stdout",
     "output_type": "stream",
     "text": [
      "Hello!!! Welcome to the Deposit & Withdrawal Machine\n",
      "holder name: Ankit\n"
     ]
    }
   ],
   "source": [
    "s = Bank_Account() "
   ]
  },
  {
   "cell_type": "code",
   "execution_count": 3,
   "metadata": {},
   "outputs": [
    {
     "name": "stdout",
     "output_type": "stream",
     "text": [
      "Enter amount to be Deposited: 343245325\n",
      "\n",
      " Amount Deposited: 343245325.0\n",
      "Enter amount to be Withdrawn: 531235\n",
      "\n",
      " You Withdrew: 531235.0\n",
      "\n",
      " Net Available Balance= 342714090.0\n"
     ]
    }
   ],
   "source": [
    "s.deposit() \n",
    "s.withdraw() \n",
    "s.display() "
   ]
  },
  {
   "cell_type": "code",
   "execution_count": 16,
   "metadata": {},
   "outputs": [],
   "source": [
    "import math\n",
    "class cone:\n",
    "    def __init__(self,radius,height):\n",
    "        self.radius = radius\n",
    "        self.height = height\n",
    "        self.latent_h = math.sqrt(self.radius**2 + self.height**2)\n",
    "        \n",
    "    def volume(self):\n",
    "        return math.pi*self.radius**2\n",
    "    \n",
    "    def surface_area(self):\n",
    "        print(\"surface_area-\",con1.volume()+(math.pi*self.radius*self.latent_h))\n",
    "        print(\"volume-\",con1.volume())\n",
    "    "
   ]
  },
  {
   "cell_type": "code",
   "execution_count": 17,
   "metadata": {},
   "outputs": [
    {
     "name": "stdout",
     "output_type": "stream",
     "text": [
      "surface_area- 213.6648256533997\n",
      "volume- 78.53981633974483\n"
     ]
    }
   ],
   "source": [
    "con1 = cone(5,7) \n",
    "con1.volume()\n",
    "con1.surface_area()"
   ]
  },
  {
   "cell_type": "code",
   "execution_count": null,
   "metadata": {},
   "outputs": [],
   "source": []
  }
 ],
 "metadata": {
  "kernelspec": {
   "display_name": "Python 3",
   "language": "python",
   "name": "python3"
  },
  "language_info": {
   "codemirror_mode": {
    "name": "ipython",
    "version": 3
   },
   "file_extension": ".py",
   "mimetype": "text/x-python",
   "name": "python",
   "nbconvert_exporter": "python",
   "pygments_lexer": "ipython3",
   "version": "3.8.3"
  }
 },
 "nbformat": 4,
 "nbformat_minor": 4
}
